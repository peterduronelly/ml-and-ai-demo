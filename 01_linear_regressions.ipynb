{
 "cells": [
  {
   "cell_type": "markdown",
   "id": "99b84e99-cdd8-4507-8001-3b38dd9d54ec",
   "metadata": {},
   "source": [
    "## In this session\n",
    "\n",
    "- How to build a traditional model?\n",
    "- How to improve model performance?\n",
    "- What are the drawbacks of 'simple' performance improvement?\n",
    "\n",
    "### Topics covered\n",
    "- Linear regression\n",
    "- RMSE as a measure of fit\n",
    "- Overfitting"
   ]
  },
  {
   "cell_type": "markdown",
   "id": "a28bf129-93de-4354-a80a-3f91fb4ff80a",
   "metadata": {},
   "source": [
    "## Linear Regression"
   ]
  },
  {
   "cell_type": "code",
   "execution_count": null,
   "id": "9633a13b-50c4-4f49-bd7b-4f80cf159dbf",
   "metadata": {},
   "outputs": [],
   "source": [
    "import os\n",
    "import pandas as pd\n",
    "import seaborn as sns\n",
    "import matplotlib.pyplot as plt\n",
    "import statsmodels.api as sm\n",
    "import statsmodels.formula.api as smf\n",
    "from statsmodels.tools.eval_measures import mse,rmse\n",
    "import warnings\n",
    "warnings.filterwarnings('ignore')"
   ]
  },
  {
   "cell_type": "code",
   "execution_count": null,
   "id": "a5f1d1be-1409-473c-8c65-79ac5a1bdf6f",
   "metadata": {},
   "outputs": [],
   "source": [
    "%matplotlib inline"
   ]
  },
  {
   "cell_type": "code",
   "execution_count": null,
   "id": "1d5022c5-60b8-409c-b1dc-83804dd73888",
   "metadata": {},
   "outputs": [],
   "source": [
    "filename = 'used_cars.csv'"
   ]
  },
  {
   "cell_type": "code",
   "execution_count": null,
   "id": "9d78d2e7-681b-4824-8464-12944ac8b967",
   "metadata": {},
   "outputs": [],
   "source": [
    "filepath = os.path.join('datasets', filename)\n",
    "filepath"
   ]
  },
  {
   "cell_type": "code",
   "execution_count": null,
   "id": "c3afe57c-9971-4938-a9eb-fa7730d5794b",
   "metadata": {},
   "outputs": [],
   "source": [
    "df = pd.read_csv(filepath)"
   ]
  },
  {
   "cell_type": "code",
   "execution_count": null,
   "id": "8a47e515-0297-46b9-bf66-ef3bdc66e0b2",
   "metadata": {},
   "outputs": [],
   "source": [
    "df"
   ]
  },
  {
   "cell_type": "code",
   "execution_count": null,
   "id": "526c2ce9-5f31-4233-8f1c-480f3b1cc556",
   "metadata": {},
   "outputs": [],
   "source": [
    "df.info()"
   ]
  },
  {
   "cell_type": "code",
   "execution_count": null,
   "id": "c91782f6-e739-4e1c-a274-4b8f5fb79b29",
   "metadata": {},
   "outputs": [],
   "source": [
    "sns.regplot(\n",
    "    data = df,\n",
    "    x = 'age', y = 'price',\n",
    "    marker = '.',\n",
    "    fit_reg = True, \n",
    "    line_kws= {'color': 'k'}\n",
    ")\n",
    "plt.title('Price as a linear function of age');"
   ]
  },
  {
   "cell_type": "code",
   "execution_count": null,
   "id": "63862a2c-d9c2-4033-b537-bb7820aa6e9c",
   "metadata": {},
   "outputs": [],
   "source": [
    "sns.regplot(\n",
    "    data = df,\n",
    "    x = 'age', y = 'price',\n",
    "    marker = '.',\n",
    "    fit_reg = True, lowess = True,\n",
    "    line_kws= {'color': 'k'}\n",
    ")\n",
    "plt.title('Price as a non-linear function of age');"
   ]
  },
  {
   "cell_type": "code",
   "execution_count": null,
   "id": "e2313348-1705-4175-ac55-16e096097e70",
   "metadata": {},
   "outputs": [],
   "source": [
    "df.groupby('area')['price'].count()"
   ]
  },
  {
   "cell_type": "code",
   "execution_count": null,
   "id": "d3676542-6beb-416a-bac6-756ee5306971",
   "metadata": {},
   "outputs": [],
   "source": [
    "df_chicago = df[df.chicago == 1]\n",
    "df_la = df[df.chicago == 0]"
   ]
  },
  {
   "cell_type": "code",
   "execution_count": null,
   "id": "cce9fbfc-7c2a-481a-a561-37ae7cafa8f7",
   "metadata": {},
   "outputs": [],
   "source": [
    "df_la.sort_values(by = 'age', inplace= True)"
   ]
  },
  {
   "cell_type": "markdown",
   "id": "d28047f0-37fb-4a6e-bbf1-f1f1713276f2",
   "metadata": {},
   "source": [
    "### Build a Model - A Traditional Approach"
   ]
  },
  {
   "cell_type": "markdown",
   "id": "17284206-f863-418d-8379-73740709d06b",
   "metadata": {},
   "source": [
    "In the traditional approach we are defining a set of `explanatory variables`, which we think are related to the development of our `target variable`. The model assumes a `linear relationship` between the target variable $y$ and the explanatory variables. \n",
    "\n",
    "<center>\n",
    "    $y_i = \\beta_0 + \\beta_1x_i + \\epsilon_i$\n",
    "</center>\n",
    "<br>where $\\beta_0$ is a constant, and $\\epsilon$ is a normally distributed random number with an expected value of 0: \n",
    "<br>\n",
    "<br>\n",
    "<center>\n",
    "    $\\epsilon \\sim N(0,\\sigma_{\\epsilon})$.\n",
    "</center>\n",
    "<br>\n",
    "(Note: standard normal distribution is $N(0, 1)$)\n",
    "\n",
    "<br>The - almost oversimplifed -  interpretation of the parameters are:\n",
    "- $\\beta_0$: the expected value of $y$ if $x$ = 0 (can be meaningless) \n",
    "- $\\beta_1$: expected **unit change** in $y$ if $x$ is **one unit higher**, each measured in their own units.\n",
    "\n",
    "A regression model is meaningful if\n",
    "- the model explains a fair amount from the variability of the dependent ($y$) variable; we measure it with $R^2$ \n",
    "- if the $\\beta_1$, $\\beta_2$, ... variables are significantly different from zero; we measure it with the _t_statistics_ and the corresponding _p_values_\n",
    "- the model overall _F-stastistic_ is high and its corresponding _p_value_ is low. "
   ]
  },
  {
   "attachments": {},
   "cell_type": "markdown",
   "id": "44723e1c-a694-4e60-b872-292c75b700aa",
   "metadata": {},
   "source": [
    "#### How to build a traditional model in Python?\n",
    "\n",
    "1. Define your exact model as a formula.\n",
    "2. Instantiate a regression object.\n",
    "3. Fit the regression to your data\n",
    "4. Analyze results\n",
    "5. Compare your model to other options.\n",
    "6. Make prediction."
   ]
  },
  {
   "cell_type": "markdown",
   "id": "5d0fbae0-ce8d-4bfd-b164-6ab6d74b8b38",
   "metadata": {},
   "source": [
    "1. **Define your formula**\n",
    "<center>\n",
    "    $price_i = \\beta_0 + \\beta_1age_i + \\epsilon_i$\n",
    "</center>\n",
    "\n",
    "<br>   \n",
    "\n",
    "2. **Instantiate a model object**"
   ]
  },
  {
   "cell_type": "code",
   "execution_count": null,
   "id": "2a879a5c-a1bf-41f9-804d-9173e145affd",
   "metadata": {},
   "outputs": [],
   "source": [
    "simple_model = smf.ols(\"price ~ age\", data=df_chicago)"
   ]
  },
  {
   "cell_type": "code",
   "execution_count": null,
   "id": "b98f9704-30e8-44b0-a98e-c5d6739ce5d6",
   "metadata": {},
   "outputs": [],
   "source": [
    "type(simple_model)"
   ]
  },
  {
   "cell_type": "markdown",
   "id": "10a4089c-6bce-4782-bf8a-b5b8bb5639e2",
   "metadata": {},
   "source": [
    "3. **Fit the regression to your data**"
   ]
  },
  {
   "cell_type": "code",
   "execution_count": null,
   "id": "df88be3a-20e4-4b96-b62b-8b6d3c5e9688",
   "metadata": {},
   "outputs": [],
   "source": [
    "simple_model_fitted = simple_model.fit(cov_type= 'HC1')"
   ]
  },
  {
   "cell_type": "code",
   "execution_count": null,
   "id": "554ec783-4605-48cc-af83-c9e9bdcace05",
   "metadata": {},
   "outputs": [],
   "source": [
    "type(simple_model_fitted)"
   ]
  },
  {
   "cell_type": "markdown",
   "id": "2a7d37ce-8f46-4380-832d-69ec11ddec92",
   "metadata": {},
   "source": [
    "4. **Analyze results**"
   ]
  },
  {
   "cell_type": "code",
   "execution_count": null,
   "id": "e3e37875-613b-4604-b919-692905f9d8d9",
   "metadata": {},
   "outputs": [],
   "source": [
    "print(simple_model_fitted.get_robustcov_results().summary())"
   ]
  },
  {
   "cell_type": "code",
   "execution_count": null,
   "id": "2ea1a5dc-08ea-47ae-9c48-bc14e11ae9ec",
   "metadata": {},
   "outputs": [],
   "source": [
    "print('R2 = {:.2%}'.format(simple_model_fitted.get_robustcov_results().rsquared))"
   ]
  },
  {
   "cell_type": "code",
   "execution_count": null,
   "id": "9a233310-e1e5-4193-ac44-70c1ba683ff1",
   "metadata": {},
   "outputs": [],
   "source": [
    "fitted_values_chicago = simple_model_fitted.get_robustcov_results().fittedvalues"
   ]
  },
  {
   "cell_type": "code",
   "execution_count": null,
   "id": "bbeea3d7-16fa-4304-99f5-1d7b15e5a176",
   "metadata": {},
   "outputs": [],
   "source": [
    "fig = plt.figure()\n",
    "ax = fig.add_subplot(111)\n",
    "ax.scatter(x = df_chicago.age, y = df_chicago.price, marker = '.')\n",
    "ax.plot( df_chicago.age, fitted_values_chicago, color = 'k', label = 'regression line')\n",
    "ax.hlines( 0, 0, df_chicago.age.max(), color = 'k', linewidth = 0.5)\n",
    "plt.title('Original and fitted values as a function of age - Chicago')\n",
    "plt.legend();"
   ]
  },
  {
   "cell_type": "markdown",
   "id": "918e1fdf-784d-4f3a-baa8-5b6783755637",
   "metadata": {},
   "source": [
    "#### External validity\n",
    "\n",
    "`External validity` is concept related to the behavior of the model on data which it has not seen. If we train the model Chicago, will it properly predict data for cars in Los Angeles?"
   ]
  },
  {
   "cell_type": "code",
   "execution_count": null,
   "id": "cf134ee2-d25f-45fd-8301-c5b9507a27d7",
   "metadata": {},
   "outputs": [],
   "source": [
    "fitted_values_la = simple_model_fitted.predict(df_la)"
   ]
  },
  {
   "cell_type": "code",
   "execution_count": null,
   "id": "d586c71b-8612-420a-b7c9-71bdc6e7db6d",
   "metadata": {},
   "outputs": [],
   "source": [
    "fig = plt.figure()\n",
    "ax = fig.add_subplot(111)\n",
    "ax.scatter(x = df_la.age, y = df_la.price, marker = '.')\n",
    "ax.plot(df_la.age, fitted_values_la, color = 'k', label = 'regression line')\n",
    "ax.hlines( 0, 0, df_la.age.max(), color = 'k', linewidth = 0.5)\n",
    "plt.title('Original and fitted values as a function of age - Los Angeles')\n",
    "plt.legend();"
   ]
  },
  {
   "cell_type": "code",
   "execution_count": null,
   "id": "36977b6b-dcd7-48c3-9aaf-65b294eadb75",
   "metadata": {},
   "outputs": [],
   "source": [
    "fig, axs = plt.subplots(1, 2, figsize = (12,6))\n",
    "axs[0].scatter(x = df_chicago.price, y = fitted_values_chicago, marker = '.', color = 'black')\n",
    "axs[0].axline([0, 0], [1, 1], color = 'k')\n",
    "axs[0].set_title('Chicago')\n",
    "axs[1].scatter(x = df_la.price, y = fitted_values_la, marker = '.', color = 'k')\n",
    "axs[1].axline([0, 0], [1, 1], color = 'k')\n",
    "axs[1].set_title('Los Angeles')\n",
    "fig.suptitle('Original vs predicted values - simple model')\n",
    "\n",
    "for ax in axs.flat:\n",
    "    ax.set(xlabel='original', ylabel='fitted/predicted')\n",
    "\n",
    "for ax in axs.flat:\n",
    "    ax.label_outer()"
   ]
  },
  {
   "cell_type": "markdown",
   "id": "a72cc0e1-dff2-496d-a267-cf9e84e77331",
   "metadata": {},
   "source": [
    "#### Measures of fit\n",
    "\n",
    "We need to compare predicted values with original values. In order to punish large misses in prediction we take the average of the *squared differences* between the original and the predicted data. To make it comparable with the  original values we take square root of this average. \n",
    "\n",
    "This measure is of primary importance in modelling tabular data, and we call it `root mean squared error`, or `RMSE`.\n",
    "$$\n",
    "RMSE = \\sqrt{\\frac{ \\sum_{i=1}^{n} (y_i - \\hat{y_i})^2}{n}}\n",
    "$$\n",
    "<br>\n",
    "\n",
    "where $y_i$ is the original value and $\\hat{y_i}$ is the predicted value."
   ]
  },
  {
   "cell_type": "code",
   "execution_count": null,
   "id": "dea16851-d96e-453b-a6f1-7698dec1e7d7",
   "metadata": {},
   "outputs": [],
   "source": [
    "rmse_chicago = rmse(df_chicago.price, fitted_values_chicago)\n",
    "rmse_la = rmse(df_la.price, fitted_values_la)\n",
    "\n",
    "print('RMSE Chicago: {:,.2f}.'.format(rmse_chicago))\n",
    "print('RMSE Los Angeles: {:,.2f}.'.format(rmse_la))"
   ]
  },
  {
   "cell_type": "code",
   "execution_count": null,
   "id": "878ef59d-3b82-4b55-b64f-2b2cbd9613dc",
   "metadata": {},
   "outputs": [],
   "source": [
    "print('RMSE ratio between Los Angeles & Chicago: {:.3f}'.format(rmse_la / rmse_chicago))"
   ]
  },
  {
   "cell_type": "markdown",
   "id": "dc809c3e-f2d4-48b4-b276-3a7567b40c90",
   "metadata": {},
   "source": [
    "#### Improving model fit: increase the complexity of the model\n",
    "\n",
    "A more complex model can find more nuanced patterns in our data. Model complexity can be increased through\n",
    "- more variables\n",
    "- transformed variables\n",
    "- interactions between variables\n",
    "\n",
    "Since the relationship between price and age are clearly not linear, we can add non-linear terms to our model, for instance the square of age, thereby creating a so-called `polinomial model`. \n",
    "\n",
    "<center>\n",
    "    $price_i = \\beta_0 + \\beta_1age_i + \\beta_2age_i^2 + \\epsilon_i$\n",
    "</center>"
   ]
  },
  {
   "cell_type": "code",
   "execution_count": null,
   "id": "6273a36d-d115-4d95-9909-9fecef4f96fd",
   "metadata": {},
   "outputs": [],
   "source": [
    "polinomial_model = smf.ols(\"price ~ age + agesq\", data=df_chicago)\n",
    "polinomial_model_fitted = polinomial_model.fit(cov_type= 'HC1')\n",
    "polinom_fitted_values_chicago = polinomial_model_fitted.get_robustcov_results().fittedvalues\n",
    "polinom_fitted_values_la = polinomial_model_fitted.predict(df_la)"
   ]
  },
  {
   "cell_type": "code",
   "execution_count": null,
   "id": "42e9c2bd-9d73-4c8e-bcd7-a333cabdc546",
   "metadata": {},
   "outputs": [],
   "source": [
    "fig = plt.figure()\n",
    "ax = fig.add_subplot(111)\n",
    "ax.scatter(x = df_la.age, y = df_la.price, marker = '.')\n",
    "ax.plot(df_la.age, polinom_fitted_values_la,   color = 'k', label = 'regression line')\n",
    "ax.hlines( 0, 0, df_la.age.max(), color = 'k', linewidth = 0.5)\n",
    "plt.title('Original and polinomial fitted values as a function of age - Los Angeles')\n",
    "plt.legend();"
   ]
  },
  {
   "cell_type": "code",
   "execution_count": null,
   "id": "bf9174ba-8dc0-4ee4-8231-909a64fa9b12",
   "metadata": {},
   "outputs": [],
   "source": [
    "fig, axs = plt.subplots(1, 2, figsize = (12,6))\n",
    "axs[0].scatter(x = df_chicago.price, y = polinom_fitted_values_chicago, marker = '.', color = 'black')\n",
    "axs[0].axline([0, 0], [1, 1], color = 'k')\n",
    "axs[0].set_title('Chicago')\n",
    "axs[1].scatter(x = df_la.price, y = polinom_fitted_values_la, marker = '.', color = 'k')\n",
    "axs[1].axline([0, 0], [1, 1], color = 'k')\n",
    "axs[1].set_title('Los Angeles')\n",
    "fig.suptitle('Original vs predicted values - polinomial model')\n",
    "\n",
    "for ax in axs.flat:\n",
    "    ax.set(xlabel='original', ylabel='fitted/predicted')\n",
    "\n",
    "for ax in axs.flat:\n",
    "    ax.label_outer()"
   ]
  },
  {
   "cell_type": "code",
   "execution_count": null,
   "id": "48ed3db6-c1e4-4374-8f29-a56ca1a01423",
   "metadata": {},
   "outputs": [],
   "source": [
    "polinomial_rmse_chicago = rmse(df_chicago.price, polinom_fitted_values_chicago)\n",
    "polinomial_rmse_la = rmse(df_la.price, polinom_fitted_values_la)\n",
    "\n",
    "print('RMSE Chicago: {:,.2f}.'.format(polinomial_rmse_chicago))\n",
    "print('RMSE Los Angeles: {:,.2f}.'.format(polinomial_rmse_la))"
   ]
  },
  {
   "cell_type": "code",
   "execution_count": null,
   "id": "8e11993b-aceb-4dee-852f-d9e3fba73596",
   "metadata": {},
   "outputs": [],
   "source": [
    "print('RMSE ratio between Los Angeles & Chicago: {:.3f}'.format(polinomial_rmse_la / polinomial_rmse_chicago))"
   ]
  },
  {
   "cell_type": "markdown",
   "id": "93897d1a-2dbc-4df9-b701-caa2a66a594f",
   "metadata": {},
   "source": [
    "<br>\n",
    "While prediction error (RMSE) improved, it improved more for Chicago - where the model was trained. Perdiction error improved more modestly for the unseen dataset.\n",
    "<br>\n",
    "<br>\n",
    "\n",
    "When we increase model complexity, we get a better fit, but sometimes only for the training data. We call it **overfitting**: our model will be superior for the training dataset but may be completely misleading for another *test* dataset."
   ]
  },
  {
   "cell_type": "markdown",
   "id": "87f704a8-6ade-4528-802a-41f0f391d810",
   "metadata": {},
   "source": [
    "`scikit-learn` is an open source machine learning library that supports supervised and unsupervised learning. It also provides various tools for model fitting, data preprocessing, model selection, model evaluation, and many other utilities."
   ]
  },
  {
   "cell_type": "code",
   "execution_count": null,
   "id": "04ad6a57-33e7-43df-8102-7b92922977de",
   "metadata": {},
   "outputs": [],
   "source": [
    "from sklearn.linear_model import LinearRegression\n",
    "from sklearn.metrics import r2_score, mean_squared_error"
   ]
  },
  {
   "cell_type": "markdown",
   "id": "0f240abe-7094-474f-8b77-ae97ffc0e247",
   "metadata": {},
   "source": [
    "#### A super complex model with all possible variations and combinations"
   ]
  },
  {
   "cell_type": "code",
   "execution_count": null,
   "id": "244a7b78-c6f0-41ae-9335-ff7be6098d93",
   "metadata": {},
   "outputs": [],
   "source": [
    "super_model = smf.ols(\n",
    "    \"price ~ age + agesq + odometer + dealer + odometersq + LE*age + XLE*age + SE*age + cond_likenew*age + cond_excellent*age + cond_good*age + cylind6*age + odometer*age + dealer*age\", \n",
    "    data = df_chicago)\n",
    "super_model_fitted = super_model.fit(cov_type= 'HC1')\n",
    "super_fitted_values_chicago = super_model_fitted.get_robustcov_results().fittedvalues\n",
    "super_fitted_values_la = super_model_fitted.predict(df_la)"
   ]
  },
  {
   "cell_type": "code",
   "execution_count": null,
   "id": "075ec9ca-494b-4663-8bac-d73130733cfa",
   "metadata": {},
   "outputs": [],
   "source": [
    "super_rmse_chicago = rmse(df_chicago.price, super_fitted_values_chicago)\n",
    "super_rmse_la = rmse(df_la.price, super_fitted_values_la)\n",
    "print('RMSE Chicago: {:,.2f}.'.format(super_rmse_chicago))\n",
    "print('RMSE Los Angeles: {:,.2f}.'.format(super_rmse_la))"
   ]
  },
  {
   "cell_type": "code",
   "execution_count": null,
   "id": "977d91bf-b070-4cfc-80a7-42a1467d9845",
   "metadata": {},
   "outputs": [],
   "source": [
    "print('RMSE ratio between Los Angeles & Chicago: {:.3f}'.format(super_rmse_la / super_rmse_chicago))"
   ]
  },
  {
   "cell_type": "markdown",
   "id": "1ce0c441-523c-4fbc-ada9-b7fbd7d7e2a4",
   "metadata": {},
   "source": [
    "```text\n",
    "RMSE has improved meaningfully for Chicago but only slightly for Los Angeles (the unseen data). We are overfitting our model on the training data by using and overly complex model. \n",
    "```"
   ]
  },
  {
   "cell_type": "code",
   "execution_count": null,
   "id": "4c830f6a-a9fb-4a4d-a783-73fe75f077d7",
   "metadata": {},
   "outputs": [],
   "source": [
    "fig, axs = plt.subplots(1, 2, figsize = (12,6))\n",
    "axs[0].scatter(x = df_chicago.price, y = super_fitted_values_chicago, marker = '.', color = 'black')\n",
    "axs[0].axline([0, 0], [1, 1], color = 'k')\n",
    "axs[0].set_title('Chicago')\n",
    "axs[1].scatter(x = df_la.price, y = super_fitted_values_la, marker = '.', color = 'k')\n",
    "axs[1].axline([0, 0], [1, 1], color = 'k')\n",
    "axs[1].set_title('Los Angeles')\n",
    "fig.suptitle('Original vs predicted values')\n",
    "\n",
    "for ax in axs.flat:\n",
    "    ax.set(xlabel='original', ylabel='fitted/predicted')\n",
    "\n",
    "for ax in axs.flat:\n",
    "    ax.label_outer()"
   ]
  },
  {
   "cell_type": "markdown",
   "id": "94e4eed8-4b87-4149-9b4e-edd2485f8108",
   "metadata": {},
   "source": [
    "As a reminder:"
   ]
  },
  {
   "cell_type": "code",
   "execution_count": null,
   "id": "01e7b59c-a36c-416e-a549-83eca1dfb474",
   "metadata": {
    "jupyter": {
     "source_hidden": true
    }
   },
   "outputs": [],
   "source": [
    "fig, axs = plt.subplots(1, 2, figsize = (12,6))\n",
    "axs[0].scatter(x = df_chicago.price, y = polinom_fitted_values_chicago, marker = '.', color = 'black')\n",
    "axs[0].axline([0, 0], [1, 1], color = 'k')\n",
    "axs[0].set_title('Chicago')\n",
    "axs[1].scatter(x = df_la.price, y = polinom_fitted_values_la, marker = '.', color = 'k')\n",
    "axs[1].axline([0, 0], [1, 1], color = 'k')\n",
    "axs[1].set_title('Los Angeles')\n",
    "fig.suptitle('Original vs predicted values - polinomial model')\n",
    "\n",
    "for ax in axs.flat:\n",
    "    ax.set(xlabel='original', ylabel='fitted/predicted')\n",
    "\n",
    "for ax in axs.flat:\n",
    "    ax.label_outer()"
   ]
  },
  {
   "cell_type": "code",
   "execution_count": null,
   "id": "d2f2c0db-c848-4a80-b40e-14c2636eaf42",
   "metadata": {},
   "outputs": [],
   "source": []
  }
 ],
 "metadata": {
  "kernelspec": {
   "display_name": "Python 3 (ipykernel)",
   "language": "python",
   "name": "python3"
  },
  "language_info": {
   "codemirror_mode": {
    "name": "ipython",
    "version": 3
   },
   "file_extension": ".py",
   "mimetype": "text/x-python",
   "name": "python",
   "nbconvert_exporter": "python",
   "pygments_lexer": "ipython3",
   "version": "3.10.13"
  }
 },
 "nbformat": 4,
 "nbformat_minor": 5
}
